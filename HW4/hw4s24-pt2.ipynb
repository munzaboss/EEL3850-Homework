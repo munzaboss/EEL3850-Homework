{
 "cells": [
  {
   "cell_type": "markdown",
   "metadata": {},
   "source": [
    "# Homework 4 Part 2\n",
    "Total: 35pt\n",
    "\n",
    "\n",
    "This is an individual assignment."
   ]
  },
  {
   "cell_type": "markdown",
   "metadata": {},
   "source": [
    "## Description\n",
    "\n",
    "Create or edit this Jupyter Notebook to answer the questions below. Use simulations to answer these questions. An analytical solution can be useful to check if your simulation is correct but analytical solutions alone will not be accepted as a solution to a problem."
   ]
  },
  {
   "cell_type": "code",
   "execution_count": 1,
   "metadata": {},
   "outputs": [],
   "source": [
    "import scipy.stats as stats\n",
    "import numpy as np\n",
    "import numpy.random as npr\n",
    "import matplotlib.pyplot as plt\n",
    "%matplotlib inline\n",
    "plt.style.use('ggplot')"
   ]
  },
  {
   "cell_type": "markdown",
   "metadata": {},
   "source": [
    "## Problem 5\n",
    "(20 pt)\n",
    "Build a function that simulates the communication system in Problem 3 (of part 1). Take as input the value of $b$ and the number of simulations. Your simulation should implement the decision rule given in (7) and return or print the probability of error.   \n",
    "\n",
    "1. Run your simulation and output the probability of error when $b=1.2$.\n",
    "\n",
    "2. Run your simulation and output the probability of error when $b=1.6$.\n",
    "\n",
    "Recall the probability of error is defined by "
   ]
  },
  {
   "cell_type": "code",
   "execution_count": 67,
   "metadata": {},
   "outputs": [],
   "source": [
    "\n",
    "def problem3(b, numsims):\n",
    "    errors = 0\n",
    "    for i in range(numsims):\n",
    "        \n",
    "        #true signal simulation\n",
    "        if np.random.uniform(0,1) < 0.6:\n",
    "            true_signal = 1\n",
    "        else:\n",
    "            true_signal = 0\n",
    "\n",
    "        noise = np.random.uniform(0,b)\n",
    "        #decision rule\n",
    "        if noise + true_signal < 1:\n",
    "            est_signal = 0\n",
    "        else:\n",
    "            est_signal = 1\n",
    "        if est_signal != true_signal:\n",
    "            errors += 1\n",
    "    \n",
    "    probErrors = errors / numsims\n",
    "    return(f\"The probability of errors when b is equal to {b} is {probErrors}.\")\n",
    "        "
   ]
  },
  {
   "cell_type": "code",
   "execution_count": 73,
   "metadata": {},
   "outputs": [
    {
     "data": {
      "text/plain": [
       "'The probability of errors when b is equal to 1.2 is 0.06838.'"
      ]
     },
     "execution_count": 73,
     "metadata": {},
     "output_type": "execute_result"
    }
   ],
   "source": [
    "problem3(1.2, 50000)"
   ]
  },
  {
   "cell_type": "code",
   "execution_count": 75,
   "metadata": {},
   "outputs": [
    {
     "data": {
      "text/plain": [
       "'The probability of errors when b is equal to 1.6 is 0.14884.'"
      ]
     },
     "execution_count": 75,
     "metadata": {},
     "output_type": "execute_result"
    }
   ],
   "source": [
    "problem3(1.6, 50000)"
   ]
  },
  {
   "cell_type": "markdown",
   "metadata": {
    "tags": []
   },
   "source": [
    "## Problem 6\n",
    "(15 pt)\n",
    "\n",
    "\n",
    "\n",
    "Read this webpage to learn about some additional properties of variance:  {https://eng.libretexts.org/Bookshelves/Computer_Science/Programming_and_Computation_Fundamentals/Mathematics_for_Computer_Science_(Lehman_Leighton_and_Meyer)/04%3A_Probability/19%3A_Deviation_from_the_Mean/19.03%3A_Properties_of_Variance}\n",
    "\n",
    "In particular, for $S$ and $T$ two independent RV, Variance of $S+T$ equals the variance of $S$ plus the variance of $T$. \n",
    "\n",
    "Let $X_1$ be a uniformly distributed over interval $[0,10]$, and $X_2$ be a Gaussian RV with mean $\\mu=5$ and std $\\sigma =3$. \n",
    "\n",
    "1. Use the simulation to plot the empirical distribution of $Y =  X_1+2 X_2$\n",
    "2. Use simulation to estimate the $E(Y)$ and $E(Y^2)$ and $Var(Y)$. \n",
    "3. Analytically calculate the variance of $Y$, validate if the estimated variance equals the variance of $Y$."
   ]
  },
  {
   "cell_type": "code",
   "execution_count": 99,
   "metadata": {},
   "outputs": [
    {
     "name": "stdout",
     "output_type": "stream",
     "text": [
      "E(Y) is 15.042934534556082\n",
      "E(Y^2) is 271.43443653087706\n",
      "Var(Y) is 45.144557119937126\n",
      "Var(Y) calculated analytically using theorem of sums of independent variances is 45.144557119937126\n"
     ]
    },
    {
     "data": {
      "image/png": "[encoded data removed]",
      "text/plain": [
       "<Figure size 640x480 with 1 Axes>"
      ]
     },
     "metadata": {},
     "output_type": "display_data"
    }
   ],
   "source": [
    "numsims = 10000\n",
    "X1 = np.random.uniform(0,10, size = numsims)\n",
    "X2 = np.random.normal(loc = 5, scale = 3, size = numsims)\n",
    "Y = X1 + 2*X2\n",
    "\n",
    "E_Y = np.mean(Y)\n",
    "E_Y_Squared = np.mean(Y**2)\n",
    "Var_Y = np.var(Y)\n",
    "\n",
    "Analytical_Var_Y = np.var(X1) + np.var(X2)\n",
    "\n",
    "\n",
    "plt.hist(Y, bins = 50, density=True)\n",
    "plt.title(\"Histogram of Y\")\n",
    "plt.xlabel(\"Value\")\n",
    "plt.ylabel(\"Density\")\n",
    "\n",
    "\n",
    "print(f\"E(Y) is {E_Y}\")\n",
    "print(f\"E(Y^2) is {E_Y_Squared}\")\n",
    "print(f\"Var(Y) is {Var_Y}\")\n",
    "print(f\"Var(Y) calculated analytically using theorem of sums of independent variances is {Var_Y}\")\n",
    "\n",
    "\n",
    "\n"
   ]
  },
  {
   "cell_type": "code",
   "execution_count": null,
   "metadata": {},
   "outputs": [],
   "source": []
  }
 ],
 "metadata": {
  "kernelspec": {
   "display_name": "Python 3 (ipykernel)",
   "language": "python",
   "name": "python3"
  },
  "language_info": {
   "codemirror_mode": {
    "name": "ipython",
    "version": 3
   },
   "file_extension": ".py",
   "mimetype": "text/x-python",
   "name": "python",
   "nbconvert_exporter": "python",
   "pygments_lexer": "ipython3",
   "version": "3.10.6"
  },
  "latex_envs": {
   "LaTeX_envs_menu_present": true,
   "autoclose": false,
   "autocomplete": true,
   "bibliofile": "biblio.bib",
   "cite_by": "apalike",
   "current_citInitial": 1,
   "eqLabelWithNumbers": true,
   "eqNumInitial": 1,
   "hotkeys": {
    "equation": "Ctrl-E",
    "itemize": "Ctrl-I"
   },
   "labels_anchors": false,
   "latex_user_defs": false,
   "report_style_numbering": false,
   "user_envs_cfg": false
  },
  "varInspector": {
   "cols": {
    "lenName": 16,
    "lenType": 16,
    "lenVar": 40
   },
   "kernels_config": {
    "python": {
     "delete_cmd_postfix": "",
     "delete_cmd_prefix": "del ",
     "library": "var_list.py",
     "varRefreshCmd": "print(var_dic_list())"
    },
    "r": {
     "delete_cmd_postfix": ") ",
     "delete_cmd_prefix": "rm(",
     "library": "var_list.r",
     "varRefreshCmd": "cat(var_dic_list()) "
    }
   },
   "types_to_exclude": [
    "module",
    "function",
    "builtin_function_or_method",
    "instance",
    "_Feature"
   ],
   "window_display": false
  }
 },
 "nbformat": 4,
 "nbformat_minor": 4
}
