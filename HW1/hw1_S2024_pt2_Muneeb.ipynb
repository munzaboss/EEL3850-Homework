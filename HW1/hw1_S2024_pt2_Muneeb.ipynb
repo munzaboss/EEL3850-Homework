{
 "cells": [
  {
   "cell_type": "markdown",
   "metadata": {},
   "source": [
    "# Homework 1 Part 2\n",
    "\n",
    "\n",
    "This is an individual assignment."
   ]
  },
  {
   "cell_type": "markdown",
   "metadata": {},
   "source": [
    "## Description\n",
    "\n",
    "Create or edit this Jupyter Notebook to answer the questions below. Use simulations to answer these questions. An analytical solution can be useful to check if your simulation is correct but analytical solutions alone will not be accepted as a solution to a problem."
   ]
  },
  {
   "cell_type": "code",
   "execution_count": 1,
   "metadata": {},
   "outputs": [],
   "source": [
    "import numpy as np\n",
    "import random\n"
   ]
  },
  {
   "cell_type": "markdown",
   "metadata": {},
   "source": [
    "## Problem 1\n",
    "\n",
    "Consider repeatedly rolling a fair 4-sided die.\n",
    "\n",
    "1. Create a simulation to compute the probability that the top face will be 4 at least once on four rolls of the die?\n",
    "2. Create a simulation to compute the probability that the top face will be 4 at least once on 20 rolls of the die?\n",
    "3. Create a simulation to compute how many rolls of the die would you have to do to be 90% confident that you would see at least one 4?\n",
    "4. Using the formula you have computed in problem 2 part 4, make a Python function that takes in the target value $p$ and outputs the required number of rolls of an integer. \n",
    "    1. Find the values for $p=0.95$ and $p=0.99$. \n",
    "    2. Use your simulation to verify that the number of rolls you specified is sufficient to achieve $p\\geq 0.95$."
   ]
  },
  {
   "cell_type": "code",
   "execution_count": 2,
   "metadata": {},
   "outputs": [
    {
     "name": "stdout",
     "output_type": "stream",
     "text": [
      "Probability that the top face will be 4 at least once on four rolls is:  0.51531\n"
     ]
    }
   ],
   "source": [
    "#1)\n",
    "num_sims = 100000\n",
    "rolls = 4\n",
    "faces = [1,2,3,4,5,6]\n",
    "event = 0\n",
    "\n",
    "for i in range(num_sims):\n",
    "    dice = random.choices(faces, k = rolls)\n",
    "    if 4 in dice:\n",
    "        event += 1\n",
    "\n",
    "print (\"Probability that the top face will be 4 at least once on four rolls is: \", event / num_sims)    "
   ]
  },
  {
   "cell_type": "code",
   "execution_count": 3,
   "metadata": {},
   "outputs": [
    {
     "name": "stdout",
     "output_type": "stream",
     "text": [
      "Probability that the top face will be 4 at least once on 20 rolls is:  0.9061\n"
     ]
    }
   ],
   "source": [
    "# 2)\n",
    "num_sims = 100000\n",
    "rolls = 13\n",
    "faces = [1,2,3,4,5,6]\n",
    "event = 0\n",
    "\n",
    "for i in range(num_sims):\n",
    "    dice = random.choices(faces, k = rolls)\n",
    "    if 4 in dice:\n",
    "        event += 1\n",
    "\n",
    "print (\"Probability that the top face will be 4 at least once on 20 rolls is: \", event / num_sims)"
   ]
  },
  {
   "cell_type": "code",
   "execution_count": 4,
   "metadata": {},
   "outputs": [
    {
     "name": "stdout",
     "output_type": "stream",
     "text": [
      "Rolls needed to be 90% confident that you would see at least one 4:  13\n"
     ]
    }
   ],
   "source": [
    "#3)\n",
    "faces = [1,2,3,4,5,6]\n",
    "num_sims = 10000\n",
    "target_prob = 0.9\n",
    "true_prob = 0\n",
    "rolls = 0\n",
    "event = 0\n",
    "\n",
    "while true_prob < target_prob:\n",
    "    event = 0\n",
    "    rolls += 1\n",
    "    for i in range(num_sims):\n",
    "        dice = random.choices(faces, k = rolls)\n",
    "        if 4 in dice:\n",
    "            event += 1\n",
    "    true_prob = event / num_sims\n",
    "    \n",
    "\n",
    "print (\"Rolls needed to be 90% confident that you would see at least one 4: \", rolls)"
   ]
  },
  {
   "cell_type": "code",
   "execution_count": 5,
   "metadata": {},
   "outputs": [
    {
     "name": "stdout",
     "output_type": "stream",
     "text": [
      "Rolls needed to be 0.95% confident that you would see at least one 4:  17\n",
      "Rolls needed to be 0.99% confident that you would see at least one 4:  26\n"
     ]
    }
   ],
   "source": [
    "#4) Function Definition\n",
    "def needed_rolls(target_prob):\n",
    "    faces = [1,2,3,4,5,6]\n",
    "    num_sims = 100000\n",
    "    true_prob = 0\n",
    "    rolls = 0\n",
    "    event = 0\n",
    "\n",
    "    while true_prob < target_prob:\n",
    "        event = 0\n",
    "        rolls += 1\n",
    "        for i in range(num_sims):\n",
    "            dice = random.choices(faces, k = rolls)\n",
    "            if 4 in dice:\n",
    "                event += 1\n",
    "        true_prob = event / num_sims\n",
    "\n",
    "    print (\"Rolls needed to be \" + str(target_prob) + \"% confident that you would see at least one 4: \", rolls)\n",
    "\n",
    "#4.1) Finding values for 0.95 and 0.99\n",
    "\n",
    "needed_rolls(0.95)\n",
    "needed_rolls(0.99)\n",
    "\n"
   ]
  },
  {
   "cell_type": "code",
   "execution_count": 6,
   "metadata": {},
   "outputs": [
    {
     "name": "stdout",
     "output_type": "stream",
     "text": [
      "Probability that the top face will be 4 at least once on 17 rolls is:  0.9589\n"
     ]
    }
   ],
   "source": [
    "#4.2) Verifying for p =0.95 that 17 rolls are needed\n",
    "num_sims = 10000\n",
    "rolls = 17\n",
    "faces = [1,2,3,4,5,6]\n",
    "event = 0\n",
    "\n",
    "for i in range(num_sims):\n",
    "    dice = random.choices(faces, k = rolls)\n",
    "    if 4 in dice:\n",
    "        event += 1\n",
    "\n",
    "print (\"Probability that the top face will be 4 at least once on 17 rolls is: \", event / num_sims)\n"
   ]
  },
  {
   "cell_type": "markdown",
   "metadata": {},
   "source": [
    "## Problem 2\n",
    "\n",
    "Create a simulation function where you will roll a fair 6-sided die twice. Use simulation to find out the probability of getting a 4 or 6 on the first toss and a 1,2,3, or 5 on the second toss. "
   ]
  },
  {
   "cell_type": "code",
   "execution_count": 7,
   "metadata": {},
   "outputs": [
    {
     "name": "stdout",
     "output_type": "stream",
     "text": [
      "Probability of getting a 4 or 6 on the first toss and a 1,2,3, or 5 on the second toss:  0.22159\n"
     ]
    }
   ],
   "source": [
    "num_sims = 100000\n",
    "faces = [1,2,3,4,5,6]\n",
    "toss1 = [4,6]\n",
    "toss2 = [1,2,3,5]\n",
    "event = 0\n",
    "\n",
    "for i in range(num_sims):\n",
    "    dice = random.choice(faces)\n",
    "    if dice in toss1:\n",
    "        dice = random.choice(faces)\n",
    "        if dice in toss2:\n",
    "            event+=1\n",
    "\n",
    "\n",
    "print(\"Probability of getting a 4 or 6 on the first toss and a 1,2,3, or 5 on the second toss: \", event / num_sims)"
   ]
  },
  {
   "cell_type": "markdown",
   "metadata": {},
   "source": [
    "## Problem 3\n",
    "\n",
    "Suppose that you have a bag with 3 coins. One of them is a fair coin, but the others are biased trick coins. When flipped, the three coins come up heads with probability $\\frac{1}{2}$, $\\frac{1}{4}$, and $\\frac{1}{6}$, respectively.\n",
    "\n",
    "Consider the experiment where you pick one coin at random and flip it three times. Let $H_i$ be the event that the coin comes up heads on flip $i$. What is the probability of the outcome $H_1\\cap H_2\\cap \\overline{H_3}$?\n",
    "\n",
    "With small modification in your code, find out the probability of the outcome $H_1\\cap \\overline{H_2} \\cap \\overline{H_3}$.\n",
    "\n",
    "Use simulation to find out the probability."
   ]
  },
  {
   "cell_type": "code",
   "execution_count": 8,
   "metadata": {},
   "outputs": [
    {
     "name": "stdout",
     "output_type": "stream",
     "text": [
      "Probability of that first two flips are heads and last is tails with given coins:  0.06501\n"
     ]
    }
   ],
   "source": [
    "#Probability of first 2 flips being heads but the third is not\n",
    "\n",
    "num_sims = 100000\n",
    "event = 0\n",
    "#set of coins denoted by the probability of them landing heads\n",
    "coins = ['half', 'fourth', 'sixth']\n",
    "\n",
    "for sim in range(num_sims):\n",
    "    coin = random.choice(coins)\n",
    "    if coin == 'half':\n",
    "        S = ['H','T']\n",
    "    if coin == 'fourth':\n",
    "        S = ['H','T','T','T']\n",
    "    if coin == 'sixth':\n",
    "        S = ['H','T','T','T','T','T']\n",
    "    values = random.choices(S, k = 3)\n",
    "    if values[0] == 'H' and values[1] == 'H' and values[2] == 'T':\n",
    "        event += 1\n",
    "\n",
    "print(\"Probability of that first two flips are heads and last is tails with given coins: \", event / num_sims)"
   ]
  },
  {
   "cell_type": "code",
   "execution_count": 9,
   "metadata": {},
   "outputs": [
    {
     "name": "stdout",
     "output_type": "stream",
     "text": [
      "Probability of HTT with given coins:  0.1292\n"
     ]
    }
   ],
   "source": [
    "#Probability of HTT\n",
    "num_sims = 100000\n",
    "event = 0\n",
    "#set of coins denoted by the probability of them landing heads\n",
    "coins = ['half', 'fourth', 'sixth']\n",
    "\n",
    "for sim in range(num_sims):\n",
    "    coin = random.choice(coins)\n",
    "    if coin == 'half':\n",
    "        S = ['H','T']\n",
    "    if coin == 'fourth':\n",
    "        S = ['H','T','T','T']\n",
    "    if coin == 'sixth':\n",
    "        S = ['H','T','T','T','T','T']\n",
    "    values = random.choices(S, k = 3)\n",
    "    if values[0] == 'H' and values[1] == 'T' and values[2] == 'T':\n",
    "        event += 1\n",
    "\n",
    "print(\"Probability of HTT with given coins: \", event / num_sims)"
   ]
  },
  {
   "cell_type": "markdown",
   "metadata": {},
   "source": [
    "# Submit Your Solutions\n",
    "\n",
    "Confirm that you've successfully completed the assignment.\n",
    "\n",
    "Along with the Notebook, include a PDF of the notebook with your solutions.\n",
    "\n",
    "```add``` and ```commit``` the final version of your work, and ```push``` your PDF file to your GitHub repository.\n",
    "\n",
    "Submit the URL of your GitHub Repository as your assignment submission on Canvas."
   ]
  }
 ],
 "metadata": {
  "kernelspec": {
   "display_name": "Python 3 (ipykernel)",
   "language": "python",
   "name": "python3"
  },
  "language_info": {
   "codemirror_mode": {
    "name": "ipython",
    "version": 3
   },
   "file_extension": ".py",
   "mimetype": "text/x-python",
   "name": "python",
   "nbconvert_exporter": "python",
   "pygments_lexer": "ipython3",
   "version": "3.11.5"
  },
  "latex_envs": {
   "LaTeX_envs_menu_present": true,
   "autoclose": false,
   "autocomplete": true,
   "bibliofile": "biblio.bib",
   "cite_by": "apalike",
   "current_citInitial": 1,
   "eqLabelWithNumbers": true,
   "eqNumInitial": 1,
   "hotkeys": {
    "equation": "Ctrl-E",
    "itemize": "Ctrl-I"
   },
   "labels_anchors": false,
   "latex_user_defs": false,
   "report_style_numbering": false,
   "user_envs_cfg": false
  },
  "varInspector": {
   "cols": {
    "lenName": 16,
    "lenType": 16,
    "lenVar": 40
   },
   "kernels_config": {
    "python": {
     "delete_cmd_postfix": "",
     "delete_cmd_prefix": "del ",
     "library": "var_list.py",
     "varRefreshCmd": "print(var_dic_list())"
    },
    "r": {
     "delete_cmd_postfix": ") ",
     "delete_cmd_prefix": "rm(",
     "library": "var_list.r",
     "varRefreshCmd": "cat(var_dic_list()) "
    }
   },
   "types_to_exclude": [
    "module",
    "function",
    "builtin_function_or_method",
    "instance",
    "_Feature"
   ],
   "window_display": false
  }
 },
 "nbformat": 4,
 "nbformat_minor": 4
}
